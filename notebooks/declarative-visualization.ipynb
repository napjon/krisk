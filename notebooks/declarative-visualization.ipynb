{
 "cells": [
  {
   "cell_type": "markdown",
   "metadata": {},
   "source": [
    "You can use krisk for Declarative Visualization. You don't have to use `krisk.plot` package, and directly use `Chart` class to make any charts that are supported by ECharts."
   ]
  },
  {
   "cell_type": "code",
   "execution_count": 16,
   "metadata": {
    "collapsed": false
   },
   "outputs": [
    {
     "data": {
      "application/javascript": [
       "\n",
       "    require.config({\n",
       "                 baseUrl : \"//cdn.rawgit.com/napjon/krisk/master/krisk/static\",\n",
       "                 paths: {\n",
       "                      echarts: \"//cdnjs.cloudflare.com/ajax/libs/echarts/3.2.1/echarts.min\"\n",
       "                  }\n",
       "    });\n",
       "    "
      ],
      "text/plain": [
       "<IPython.core.display.Javascript object>"
      ]
     },
     "execution_count": 16,
     "metadata": {},
     "output_type": "execute_result"
    }
   ],
   "source": [
    "# Only used this for nbviewer purposes (online js fetch). Don't use it.\n",
    "from krisk import init_notebook; init_notebook()"
   ]
  },
  {
   "cell_type": "code",
   "execution_count": 17,
   "metadata": {
    "collapsed": false
   },
   "outputs": [],
   "source": [
    "from krisk.chart import Chart"
   ]
  },
  {
   "cell_type": "code",
   "execution_count": 18,
   "metadata": {
    "collapsed": false
   },
   "outputs": [
    {
     "data": {
      "application/javascript": [
       "\n",
       "$('#42633d9b-b939-477c-998f-6239dc3d1ad9').attr('id','42633d9b-b939-477c-998f-6239dc3d1ad9'+'_old');\n",
       "element.append('<div id=\"42633d9b-b939-477c-998f-6239dc3d1ad9\" style=\"width: 600px;height:400px;\"></div>');require(['echarts', 'dark', 'vintage', 'roma', 'shine', 'infographic', 'macarons'],\n",
       "function(echarts){\n",
       "    \n",
       "    function parseFunction(str){\n",
       "        return eval('(' + str + ')');\n",
       "    }\n",
       "    \n",
       "    var myChart = echarts.init(document.getElementById(\"42633d9b-b939-477c-998f-6239dc3d1ad9\"),\"\");\n",
       "    \n",
       "    var option = {\n",
       "    \"legend\": {\n",
       "        \"data\": []\n",
       "    },\n",
       "    \"tooltip\": {\n",
       "        \"axisPointer\": {\n",
       "            \"type\": \"\"\n",
       "        }\n",
       "    },\n",
       "    \"series\": [],\n",
       "    \"title\": {\n",
       "        \"text\": \"\"\n",
       "    },\n",
       "    \"yAxis\": {},\n",
       "    \"xAxis\": {\n",
       "        \"data\": []\n",
       "    }\n",
       "};\n",
       "    option['tooltip']['formatter'] = parseFunction(option['tooltip']['formatter']);\n",
       "    myChart.setOption(option);\n",
       "    \n",
       "    \n",
       "    \n",
       "});\n",
       "\n",
       "\n"
      ],
      "text/plain": [
       "<krisk.chart.Chart at 0x104af0588>"
      ]
     },
     "execution_count": 18,
     "metadata": {},
     "output_type": "execute_result"
    }
   ],
   "source": [
    "chart = Chart()\n",
    "chart"
   ]
  },
  {
   "cell_type": "markdown",
   "metadata": {},
   "source": [
    "Here you see that there is a blank figure for chart that you want to use. You can inspect the characteristic of the chart by using its `option` member."
   ]
  },
  {
   "cell_type": "code",
   "execution_count": 11,
   "metadata": {
    "collapsed": false
   },
   "outputs": [
    {
     "data": {
      "text/plain": [
       "{'legend': {'data': []},\n",
       " 'series': [],\n",
       " 'title': {'text': ''},\n",
       " 'tooltip': {'axisPointer': {'type': ''}},\n",
       " 'xAxis': {'data': []},\n",
       " 'yAxis': {}}"
      ]
     },
     "execution_count": 11,
     "metadata": {},
     "output_type": "execute_result"
    }
   ],
   "source": [
    "chart.option"
   ]
  },
  {
   "cell_type": "markdown",
   "metadata": {},
   "source": [
    "As soon as Chart objects are build, the chart option will be using this minimum Python dictionary. This template will translate to JSON object that represent [ECharts option](http://echarts.baidu.com/option.html)."
   ]
  },
  {
   "cell_type": "markdown",
   "metadata": {},
   "source": [
    "Eventhough there is no visualization in the plot, you can still tweak other type of customization. Here is an example if you want to add a title and a theme to the figure."
   ]
  },
  {
   "cell_type": "code",
   "execution_count": 14,
   "metadata": {
    "collapsed": false
   },
   "outputs": [
    {
     "data": {
      "application/javascript": [
       "\n",
       "$('#64f7e294-5831-4f59-8498-414051a776e7').attr('id','64f7e294-5831-4f59-8498-414051a776e7'+'_old');\n",
       "element.append('<div id=\"64f7e294-5831-4f59-8498-414051a776e7\" style=\"width: 600px;height:400px;\"></div>');require(['echarts', 'dark', 'vintage', 'roma', 'shine', 'infographic', 'macarons'],\n",
       "function(echarts){\n",
       "    \n",
       "    function parseFunction(str){\n",
       "        return eval('(' + str + ')');\n",
       "    }\n",
       "    \n",
       "    var myChart = echarts.init(document.getElementById(\"64f7e294-5831-4f59-8498-414051a776e7\"),\"vintage\");\n",
       "    \n",
       "    var option = {\n",
       "    \"legend\": {\n",
       "        \"data\": []\n",
       "    },\n",
       "    \"tooltip\": {\n",
       "        \"axisPointer\": {\n",
       "            \"type\": \"\"\n",
       "        }\n",
       "    },\n",
       "    \"yAxis\": {},\n",
       "    \"title\": {\n",
       "        \"left\": \"center\",\n",
       "        \"text\": \"This is a blank visualization\",\n",
       "        \"bottom\": \"auto\"\n",
       "    },\n",
       "    \"series\": [],\n",
       "    \"xAxis\": {\n",
       "        \"data\": []\n",
       "    }\n",
       "};\n",
       "    option['tooltip']['formatter'] = parseFunction(option['tooltip']['formatter']);\n",
       "    myChart.setOption(option);\n",
       "    \n",
       "    \n",
       "    \n",
       "});\n",
       "\n",
       "\n"
      ],
      "text/plain": [
       "<krisk.chart.Chart at 0x104b3ee48>"
      ]
     },
     "execution_count": 14,
     "metadata": {},
     "output_type": "execute_result"
    }
   ],
   "source": [
    "chart.set_title('This is a blank visualization', x_pos='center')\n",
    "chart.set_theme('vintage')"
   ]
  },
  {
   "cell_type": "markdown",
   "metadata": {},
   "source": [
    "There is no plot visualization since there is no data, but we can still customization like theme and title. This also benefit you for saving the figure later to be used as a basis for other plots.\n",
    "\n",
    "With minimal effort, you can insert all type of charts. Here below we change x-axis name for each of the bar. The value of every bar is what we want to insert as a `series` data."
   ]
  },
  {
   "cell_type": "code",
   "execution_count": 15,
   "metadata": {
    "collapsed": false
   },
   "outputs": [
    {
     "data": {
      "application/javascript": [
       "\n",
       "$('#1b7e3e6c-c4f1-437b-8b02-199165980052').attr('id','1b7e3e6c-c4f1-437b-8b02-199165980052'+'_old');\n",
       "element.append('<div id=\"1b7e3e6c-c4f1-437b-8b02-199165980052\" style=\"width: 600px;height:400px;\"></div>');require(['echarts', 'dark', 'vintage', 'roma', 'shine', 'infographic', 'macarons'],\n",
       "function(echarts){\n",
       "    \n",
       "    function parseFunction(str){\n",
       "        return eval('(' + str + ')');\n",
       "    }\n",
       "    \n",
       "    var myChart = echarts.init(document.getElementById(\"1b7e3e6c-c4f1-437b-8b02-199165980052\"),\"vintage\");\n",
       "    \n",
       "    var option = {\n",
       "    \"legend\": {\n",
       "        \"data\": []\n",
       "    },\n",
       "    \"tooltip\": {\n",
       "        \"axisPointer\": {\n",
       "            \"type\": \"\"\n",
       "        }\n",
       "    },\n",
       "    \"series\": [\n",
       "        {\n",
       "            \"data\": [\n",
       "                10,\n",
       "                3,\n",
       "                7,\n",
       "                4,\n",
       "                5\n",
       "            ],\n",
       "            \"name\": \"continent\",\n",
       "            \"type\": \"bar\"\n",
       "        }\n",
       "    ],\n",
       "    \"title\": {\n",
       "        \"left\": \"center\",\n",
       "        \"text\": \"This is a blank visualization\",\n",
       "        \"bottom\": \"auto\"\n",
       "    },\n",
       "    \"yAxis\": {},\n",
       "    \"xAxis\": {\n",
       "        \"data\": [\n",
       "            \"Americas\",\n",
       "            \"Asia\",\n",
       "            \"Africa\",\n",
       "            \"Oceania\",\n",
       "            \"Europe\"\n",
       "        ]\n",
       "    }\n",
       "};\n",
       "    option['tooltip']['formatter'] = parseFunction(option['tooltip']['formatter']);\n",
       "    myChart.setOption(option);\n",
       "    \n",
       "    \n",
       "    \n",
       "});\n",
       "\n",
       "\n"
      ],
      "text/plain": [
       "<krisk.chart.Chart at 0x104b3cef0>"
      ]
     },
     "execution_count": 15,
     "metadata": {},
     "output_type": "execute_result"
    }
   ],
   "source": [
    "chart.option['series'] = [{'data': [10, 3, 7, 4, 5], 'name': 'continent', 'type': 'bar'}]\n",
    "chart.option['xAxis'] =  {'data': ['Americas', 'Asia', 'Africa', 'Oceania', 'Europe']}\n",
    "chart"
   ]
  },
  {
   "cell_type": "markdown",
   "metadata": {},
   "source": [
    "There is so much more you can do with declarative visualization, as krisk only acts as a thin wrapper on top of ECharts when used without `krisk.plot`. For all complex customization that you can do with the [ECharts](http://echarts.baidu.com/examples.html) option, you can head over to http://echarts.baidu.com/option.html"
   ]
  }
 ],
 "metadata": {
  "kernelspec": {
   "display_name": "Python 3",
   "language": "python",
   "name": "python3"
  },
  "language_info": {
   "codemirror_mode": {
    "name": "ipython",
    "version": 3
   },
   "file_extension": ".py",
   "mimetype": "text/x-python",
   "name": "python",
   "nbconvert_exporter": "python",
   "pygments_lexer": "ipython3",
   "version": "3.5.2"
  }
 },
 "nbformat": 4,
 "nbformat_minor": 0
}
