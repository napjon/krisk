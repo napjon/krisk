{
 "cells": [
  {
   "cell_type": "code",
   "execution_count": 1,
   "metadata": {
    "collapsed": false
   },
   "outputs": [],
   "source": [
    "import sys\n",
    "sys.path.append('..')"
   ]
  },
  {
   "cell_type": "code",
   "execution_count": 2,
   "metadata": {
    "collapsed": false
   },
   "outputs": [
    {
     "data": {
      "application/javascript": [
       "\n",
       "    require.config({\n",
       "                 baseUrl : \"//cdn.rawgit.com/napjon/krisk/master/krisk/static\",\n",
       "                 paths: {\n",
       "                      echarts: \"//cdnjs.cloudflare.com/ajax/libs/echarts/3.2.1/echarts.min\"\n",
       "                  }\n",
       "    });\n",
       "    "
      ],
      "text/plain": [
       "<IPython.core.display.Javascript object>"
      ]
     },
     "execution_count": 2,
     "metadata": {},
     "output_type": "execute_result"
    }
   ],
   "source": [
    "import pandas as pd\n",
    "import krisk.plot as kk\n",
    "from krisk import init_notebook; init_notebook()"
   ]
  },
  {
   "cell_type": "markdown",
   "metadata": {},
   "source": [
    "Before we added talk about each of these features. There's something in common, the way the element position themselves, this are position (`x_pos`,`y_pos`), `align`, and `orientation`."
   ]
  },
  {
   "cell_type": "markdown",
   "metadata": {},
   "source": [
    "## Position"
   ]
  },
  {
   "cell_type": "markdown",
   "metadata": {},
   "source": [
    "Everytime we add toolbox, title, or legend, we almost always want to reposition those elements. "
   ]
  },
  {
   "cell_type": "markdown",
   "metadata": {},
   "source": [
    "When default to auto for both x-axes and y-axes,\n",
    "\n",
    "* The title will position at top-left corner.\n",
    "* The legend will position at top-center.\n",
    "* The toolbox will position at top-left corner."
   ]
  },
  {
   "cell_type": "markdown",
   "metadata": {},
   "source": [
    "As we can see from this criteria,  there's definitely collision for title and toolbox, and legend if the title is longer."
   ]
  },
  {
   "cell_type": "markdown",
   "metadata": {},
   "source": [
    "Take a look at this example,"
   ]
  },
  {
   "cell_type": "code",
   "execution_count": 3,
   "metadata": {
    "collapsed": true
   },
   "outputs": [],
   "source": [
    "df = pd.read_csv('../krisk/tests/data/gapminderDataFiveYear.txt',sep='\\t')"
   ]
  },
  {
   "cell_type": "code",
   "execution_count": 9,
   "metadata": {
    "collapsed": false
   },
   "outputs": [
    {
     "data": {
      "application/javascript": [
       "\n",
       "$('#9ad15e0c-7da3-4c12-869b-582885ca0c53').attr('id','9ad15e0c-7da3-4c12-869b-582885ca0c53'+'_old');\n",
       "element.append('<div id=\"9ad15e0c-7da3-4c12-869b-582885ca0c53\" style=\"width: 800px;height:400px;\"></div>');\n",
       "require(['echarts', 'dark', 'vintage', 'roma', 'shine', 'infographic', 'macarons'],\n",
       "function(echarts){\n",
       "    \n",
       "    function parseFunction(str){\n",
       "        return eval('(' + str + ')');\n",
       "    }\n",
       "    \n",
       "    var myChart = echarts.init(document.getElementById(\"9ad15e0c-7da3-4c12-869b-582885ca0c53\"),\"\");\n",
       "    \n",
       "    var option = {\n",
       "    \"series\": [\n",
       "        {\n",
       "            \"type\": \"bar\",\n",
       "            \"name\": \"Africa\",\n",
       "            \"data\": [\n",
       "                4570009.635,\n",
       "                5093033.423,\n",
       "                5702247.404,\n",
       "                6447874.788,\n",
       "                7305375.788,\n",
       "                8328096.558,\n",
       "                9602857.442,\n",
       "                11054502.115,\n",
       "                12674644.558,\n",
       "                14304480.462,\n",
       "                16033152.231,\n",
       "                17875763.308\n",
       "            ]\n",
       "        },\n",
       "        {\n",
       "            \"type\": \"bar\",\n",
       "            \"name\": \"Americas\",\n",
       "            \"data\": [\n",
       "                13806097.84,\n",
       "                15478156.64,\n",
       "                17330810.16,\n",
       "                19229864.92,\n",
       "                21175368.4,\n",
       "                23122707.96,\n",
       "                25211636.8,\n",
       "                27310158.84,\n",
       "                29570964.16,\n",
       "                31876016.4,\n",
       "                33990910.48,\n",
       "                35954847.36\n",
       "            ]\n",
       "        },\n",
       "        {\n",
       "            \"type\": \"bar\",\n",
       "            \"name\": \"Asia\",\n",
       "            \"data\": [\n",
       "                42283556.121,\n",
       "                47356987.848,\n",
       "                51404763.091,\n",
       "                57747360.606,\n",
       "                65180977.212,\n",
       "                72257986.545,\n",
       "                79095017.636,\n",
       "                87006689.758,\n",
       "                94948248.212,\n",
       "                102523803.03,\n",
       "                109145521.303,\n",
       "                115513752.333\n",
       "            ]\n",
       "        },\n",
       "        {\n",
       "            \"type\": \"bar\",\n",
       "            \"name\": \"Europe\",\n",
       "            \"data\": [\n",
       "                13937361.533,\n",
       "                14596345.033,\n",
       "                15345171.833,\n",
       "                16039298.6,\n",
       "                16687835.3,\n",
       "                17238817.7,\n",
       "                17708896.7,\n",
       "                18103138.667,\n",
       "                18604759.9,\n",
       "                18964804.933,\n",
       "                19274128.967,\n",
       "                19536617.633\n",
       "            ]\n",
       "        },\n",
       "        {\n",
       "            \"type\": \"bar\",\n",
       "            \"name\": \"Oceania\",\n",
       "            \"data\": [\n",
       "                5343003.0,\n",
       "                5970988.0,\n",
       "                6641759.0,\n",
       "                7300207.0,\n",
       "                8053050.0,\n",
       "                8619500.0,\n",
       "                9197425.0,\n",
       "                9787207.5,\n",
       "                10459825.5,\n",
       "                11120715.0,\n",
       "                11727414.5,\n",
       "                12274973.5\n",
       "            ]\n",
       "        }\n",
       "    ],\n",
       "    \"title\": {\n",
       "        \"text\": \"GapMinder Average Population Across Continent\",\n",
       "        \"bottom\": \"auto\",\n",
       "        \"left\": \"auto\"\n",
       "    },\n",
       "    \"tooltip\": {\n",
       "        \"axisPointer\": {\n",
       "            \"type\": \"\"\n",
       "        }\n",
       "    },\n",
       "    \"legend\": {\n",
       "        \"data\": [\n",
       "            \"Africa\",\n",
       "            \"Americas\",\n",
       "            \"Asia\",\n",
       "            \"Europe\",\n",
       "            \"Oceania\"\n",
       "        ]\n",
       "    },\n",
       "    \"xAxis\": {\n",
       "        \"data\": [\n",
       "            1952,\n",
       "            1957,\n",
       "            1962,\n",
       "            1967,\n",
       "            1972,\n",
       "            1977,\n",
       "            1982,\n",
       "            1987,\n",
       "            1992,\n",
       "            1997,\n",
       "            2002,\n",
       "            2007\n",
       "        ]\n",
       "    },\n",
       "    \"yAxis\": {},\n",
       "    \"toolbox\": {\n",
       "        \"bottom\": \"auto\",\n",
       "        \"align\": \"auto\",\n",
       "        \"orient\": \"horizontal\",\n",
       "        \"left\": \"auto\",\n",
       "        \"feature\": {\n",
       "            \"saveAsImage\": {\n",
       "                \"title\": \"Download as Image\",\n",
       "                \"type\": \"png\",\n",
       "                \"show\": true\n",
       "            },\n",
       "            \"restore\": {\n",
       "                \"title\": \"Reset\",\n",
       "                \"show\": true\n",
       "            },\n",
       "            \"dataZoom\": {\n",
       "                \"title\": \"Zoom\",\n",
       "                \"show\": false\n",
       "            }\n",
       "        }\n",
       "    }\n",
       "};\n",
       "    option['tooltip']['formatter'] = parseFunction(option['tooltip']['formatter']);\n",
       "    \n",
       "    //option['series'][0]['symbolSize'] = function (val){return val[2]*10;}\n",
       "    \n",
       "    \n",
       "    myChart.setOption(option);\n",
       "    //console.log(option);\n",
       "    \n",
       "    \n",
       "});\n"
      ],
      "text/plain": [
       "<krisk.chart.Chart at 0x111d04cc0>"
      ]
     },
     "execution_count": 9,
     "metadata": {},
     "output_type": "execute_result"
    }
   ],
   "source": [
    "p = kk.bar(df,'year',y='pop',how='mean',category='continent')\n",
    "p.set_size(width=800)\n",
    "p.set_title('GapMinder Average Population Across Continent')\n",
    "p.set_toolbox(save_format='png',restore=True)"
   ]
  },
  {
   "cell_type": "markdown",
   "metadata": {},
   "source": [
    "As we can see, we have to reposition the coordinate accordingly, specifically for the title since it collide with both toolbox and legend."
   ]
  },
  {
   "cell_type": "code",
   "execution_count": 10,
   "metadata": {
    "collapsed": false
   },
   "outputs": [
    {
     "data": {
      "application/javascript": [
       "\n",
       "$('#9ad15e0c-7da3-4c12-869b-582885ca0c53').attr('id','9ad15e0c-7da3-4c12-869b-582885ca0c53'+'_old');\n",
       "element.append('<div id=\"9ad15e0c-7da3-4c12-869b-582885ca0c53\" style=\"width: 800px;height:400px;\"></div>');\n",
       "require(['echarts', 'dark', 'vintage', 'roma', 'shine', 'infographic', 'macarons'],\n",
       "function(echarts){\n",
       "    \n",
       "    function parseFunction(str){\n",
       "        return eval('(' + str + ')');\n",
       "    }\n",
       "    \n",
       "    var myChart = echarts.init(document.getElementById(\"9ad15e0c-7da3-4c12-869b-582885ca0c53\"),\"\");\n",
       "    \n",
       "    var option = {\n",
       "    \"series\": [\n",
       "        {\n",
       "            \"type\": \"bar\",\n",
       "            \"name\": \"Africa\",\n",
       "            \"data\": [\n",
       "                4570009.635,\n",
       "                5093033.423,\n",
       "                5702247.404,\n",
       "                6447874.788,\n",
       "                7305375.788,\n",
       "                8328096.558,\n",
       "                9602857.442,\n",
       "                11054502.115,\n",
       "                12674644.558,\n",
       "                14304480.462,\n",
       "                16033152.231,\n",
       "                17875763.308\n",
       "            ]\n",
       "        },\n",
       "        {\n",
       "            \"type\": \"bar\",\n",
       "            \"name\": \"Americas\",\n",
       "            \"data\": [\n",
       "                13806097.84,\n",
       "                15478156.64,\n",
       "                17330810.16,\n",
       "                19229864.92,\n",
       "                21175368.4,\n",
       "                23122707.96,\n",
       "                25211636.8,\n",
       "                27310158.84,\n",
       "                29570964.16,\n",
       "                31876016.4,\n",
       "                33990910.48,\n",
       "                35954847.36\n",
       "            ]\n",
       "        },\n",
       "        {\n",
       "            \"type\": \"bar\",\n",
       "            \"name\": \"Asia\",\n",
       "            \"data\": [\n",
       "                42283556.121,\n",
       "                47356987.848,\n",
       "                51404763.091,\n",
       "                57747360.606,\n",
       "                65180977.212,\n",
       "                72257986.545,\n",
       "                79095017.636,\n",
       "                87006689.758,\n",
       "                94948248.212,\n",
       "                102523803.03,\n",
       "                109145521.303,\n",
       "                115513752.333\n",
       "            ]\n",
       "        },\n",
       "        {\n",
       "            \"type\": \"bar\",\n",
       "            \"name\": \"Europe\",\n",
       "            \"data\": [\n",
       "                13937361.533,\n",
       "                14596345.033,\n",
       "                15345171.833,\n",
       "                16039298.6,\n",
       "                16687835.3,\n",
       "                17238817.7,\n",
       "                17708896.7,\n",
       "                18103138.667,\n",
       "                18604759.9,\n",
       "                18964804.933,\n",
       "                19274128.967,\n",
       "                19536617.633\n",
       "            ]\n",
       "        },\n",
       "        {\n",
       "            \"type\": \"bar\",\n",
       "            \"name\": \"Oceania\",\n",
       "            \"data\": [\n",
       "                5343003.0,\n",
       "                5970988.0,\n",
       "                6641759.0,\n",
       "                7300207.0,\n",
       "                8053050.0,\n",
       "                8619500.0,\n",
       "                9197425.0,\n",
       "                9787207.5,\n",
       "                10459825.5,\n",
       "                11120715.0,\n",
       "                11727414.5,\n",
       "                12274973.5\n",
       "            ]\n",
       "        }\n",
       "    ],\n",
       "    \"title\": {\n",
       "        \"text\": \"GapMinder Average Population Across Continent\",\n",
       "        \"bottom\": \"auto\",\n",
       "        \"left\": \"auto\",\n",
       "        \"top\": \"7%\"\n",
       "    },\n",
       "    \"tooltip\": {\n",
       "        \"axisPointer\": {\n",
       "            \"type\": \"\"\n",
       "        }\n",
       "    },\n",
       "    \"legend\": {\n",
       "        \"data\": [\n",
       "            \"Africa\",\n",
       "            \"Americas\",\n",
       "            \"Asia\",\n",
       "            \"Europe\",\n",
       "            \"Oceania\"\n",
       "        ]\n",
       "    },\n",
       "    \"xAxis\": {\n",
       "        \"data\": [\n",
       "            1952,\n",
       "            1957,\n",
       "            1962,\n",
       "            1967,\n",
       "            1972,\n",
       "            1977,\n",
       "            1982,\n",
       "            1987,\n",
       "            1992,\n",
       "            1997,\n",
       "            2002,\n",
       "            2007\n",
       "        ]\n",
       "    },\n",
       "    \"yAxis\": {},\n",
       "    \"toolbox\": {\n",
       "        \"bottom\": \"auto\",\n",
       "        \"align\": \"auto\",\n",
       "        \"orient\": \"horizontal\",\n",
       "        \"left\": \"auto\",\n",
       "        \"feature\": {\n",
       "            \"saveAsImage\": {\n",
       "                \"title\": \"Download as Image\",\n",
       "                \"type\": \"png\",\n",
       "                \"show\": true\n",
       "            },\n",
       "            \"restore\": {\n",
       "                \"title\": \"Reset\",\n",
       "                \"show\": true\n",
       "            },\n",
       "            \"dataZoom\": {\n",
       "                \"title\": \"Zoom\",\n",
       "                \"show\": false\n",
       "            }\n",
       "        }\n",
       "    }\n",
       "};\n",
       "    option['tooltip']['formatter'] = parseFunction(option['tooltip']['formatter']);\n",
       "    \n",
       "    //option['series'][0]['symbolSize'] = function (val){return val[2]*10;}\n",
       "    \n",
       "    \n",
       "    myChart.setOption(option);\n",
       "    //console.log(option);\n",
       "    \n",
       "    \n",
       "});\n"
      ],
      "text/plain": [
       "<krisk.chart.Chart at 0x111d04cc0>"
      ]
     },
     "execution_count": 10,
     "metadata": {},
     "output_type": "execute_result"
    }
   ],
   "source": [
    "p.set_title('GapMinder Average Population Across Continent',y_pos='-7%')"
   ]
  },
  {
   "cell_type": "markdown",
   "metadata": {},
   "source": [
    "Notice that the coordinate for x_pos and y_pos has negative element. The way krisk started the position is from bottom-left corner, and based on percentage of the pixel. If on the negative element, then it will be the other way around, with x position started at the right, and y position started at the top.\n",
    "\n",
    "\n",
    "Beside coordinate number, krisk support `auto`, `center`, `left`-`right` (x position), and `top`-`bottom` (y position)."
   ]
  },
  {
   "cell_type": "markdown",
   "metadata": {},
   "source": [
    "## Orientation"
   ]
  },
  {
   "cell_type": "markdown",
   "metadata": {},
   "source": [
    "We can set orientation for legend and toolbox. Below we see the legend oriented vertically and reposition nicely in the chart."
   ]
  },
  {
   "cell_type": "code",
   "execution_count": 11,
   "metadata": {
    "collapsed": false
   },
   "outputs": [
    {
     "data": {
      "application/javascript": [
       "\n",
       "$('#9ad15e0c-7da3-4c12-869b-582885ca0c53').attr('id','9ad15e0c-7da3-4c12-869b-582885ca0c53'+'_old');\n",
       "element.append('<div id=\"9ad15e0c-7da3-4c12-869b-582885ca0c53\" style=\"width: 800px;height:400px;\"></div>');\n",
       "require(['echarts', 'dark', 'vintage', 'roma', 'shine', 'infographic', 'macarons'],\n",
       "function(echarts){\n",
       "    \n",
       "    function parseFunction(str){\n",
       "        return eval('(' + str + ')');\n",
       "    }\n",
       "    \n",
       "    var myChart = echarts.init(document.getElementById(\"9ad15e0c-7da3-4c12-869b-582885ca0c53\"),\"\");\n",
       "    \n",
       "    var option = {\n",
       "    \"series\": [\n",
       "        {\n",
       "            \"type\": \"bar\",\n",
       "            \"name\": \"Africa\",\n",
       "            \"data\": [\n",
       "                4570009.635,\n",
       "                5093033.423,\n",
       "                5702247.404,\n",
       "                6447874.788,\n",
       "                7305375.788,\n",
       "                8328096.558,\n",
       "                9602857.442,\n",
       "                11054502.115,\n",
       "                12674644.558,\n",
       "                14304480.462,\n",
       "                16033152.231,\n",
       "                17875763.308\n",
       "            ]\n",
       "        },\n",
       "        {\n",
       "            \"type\": \"bar\",\n",
       "            \"name\": \"Americas\",\n",
       "            \"data\": [\n",
       "                13806097.84,\n",
       "                15478156.64,\n",
       "                17330810.16,\n",
       "                19229864.92,\n",
       "                21175368.4,\n",
       "                23122707.96,\n",
       "                25211636.8,\n",
       "                27310158.84,\n",
       "                29570964.16,\n",
       "                31876016.4,\n",
       "                33990910.48,\n",
       "                35954847.36\n",
       "            ]\n",
       "        },\n",
       "        {\n",
       "            \"type\": \"bar\",\n",
       "            \"name\": \"Asia\",\n",
       "            \"data\": [\n",
       "                42283556.121,\n",
       "                47356987.848,\n",
       "                51404763.091,\n",
       "                57747360.606,\n",
       "                65180977.212,\n",
       "                72257986.545,\n",
       "                79095017.636,\n",
       "                87006689.758,\n",
       "                94948248.212,\n",
       "                102523803.03,\n",
       "                109145521.303,\n",
       "                115513752.333\n",
       "            ]\n",
       "        },\n",
       "        {\n",
       "            \"type\": \"bar\",\n",
       "            \"name\": \"Europe\",\n",
       "            \"data\": [\n",
       "                13937361.533,\n",
       "                14596345.033,\n",
       "                15345171.833,\n",
       "                16039298.6,\n",
       "                16687835.3,\n",
       "                17238817.7,\n",
       "                17708896.7,\n",
       "                18103138.667,\n",
       "                18604759.9,\n",
       "                18964804.933,\n",
       "                19274128.967,\n",
       "                19536617.633\n",
       "            ]\n",
       "        },\n",
       "        {\n",
       "            \"type\": \"bar\",\n",
       "            \"name\": \"Oceania\",\n",
       "            \"data\": [\n",
       "                5343003.0,\n",
       "                5970988.0,\n",
       "                6641759.0,\n",
       "                7300207.0,\n",
       "                8053050.0,\n",
       "                8619500.0,\n",
       "                9197425.0,\n",
       "                9787207.5,\n",
       "                10459825.5,\n",
       "                11120715.0,\n",
       "                11727414.5,\n",
       "                12274973.5\n",
       "            ]\n",
       "        }\n",
       "    ],\n",
       "    \"title\": {\n",
       "        \"text\": \"GapMinder Average Population Across Continent\",\n",
       "        \"bottom\": \"auto\",\n",
       "        \"left\": \"auto\",\n",
       "        \"top\": \"7%\"\n",
       "    },\n",
       "    \"tooltip\": {\n",
       "        \"axisPointer\": {\n",
       "            \"type\": \"\"\n",
       "        }\n",
       "    },\n",
       "    \"legend\": {\n",
       "        \"left\": \"12%\",\n",
       "        \"align\": \"auto\",\n",
       "        \"orient\": \"vertical\",\n",
       "        \"data\": [\n",
       "            \"Africa\",\n",
       "            \"Americas\",\n",
       "            \"Asia\",\n",
       "            \"Europe\",\n",
       "            \"Oceania\"\n",
       "        ],\n",
       "        \"top\": \"16%\"\n",
       "    },\n",
       "    \"xAxis\": {\n",
       "        \"data\": [\n",
       "            1952,\n",
       "            1957,\n",
       "            1962,\n",
       "            1967,\n",
       "            1972,\n",
       "            1977,\n",
       "            1982,\n",
       "            1987,\n",
       "            1992,\n",
       "            1997,\n",
       "            2002,\n",
       "            2007\n",
       "        ]\n",
       "    },\n",
       "    \"yAxis\": {},\n",
       "    \"toolbox\": {\n",
       "        \"bottom\": \"auto\",\n",
       "        \"align\": \"auto\",\n",
       "        \"orient\": \"horizontal\",\n",
       "        \"left\": \"auto\",\n",
       "        \"feature\": {\n",
       "            \"saveAsImage\": {\n",
       "                \"title\": \"Download as Image\",\n",
       "                \"type\": \"png\",\n",
       "                \"show\": true\n",
       "            },\n",
       "            \"restore\": {\n",
       "                \"title\": \"Reset\",\n",
       "                \"show\": true\n",
       "            },\n",
       "            \"dataZoom\": {\n",
       "                \"title\": \"Zoom\",\n",
       "                \"show\": false\n",
       "            }\n",
       "        }\n",
       "    }\n",
       "};\n",
       "    option['tooltip']['formatter'] = parseFunction(option['tooltip']['formatter']);\n",
       "    \n",
       "    //option['series'][0]['symbolSize'] = function (val){return val[2]*10;}\n",
       "    \n",
       "    \n",
       "    myChart.setOption(option);\n",
       "    //console.log(option);\n",
       "    \n",
       "    \n",
       "});\n"
      ],
      "text/plain": [
       "<krisk.chart.Chart at 0x111d04cc0>"
      ]
     },
     "execution_count": 11,
     "metadata": {},
     "output_type": "execute_result"
    }
   ],
   "source": [
    "p.set_legend(orient='vertical',x_pos='12%',y_pos='-16%')"
   ]
  },
  {
   "cell_type": "markdown",
   "metadata": {},
   "source": [
    "## Legend and Title"
   ]
  },
  {
   "cell_type": "markdown",
   "metadata": {},
   "source": [
    "For legend and title we have discussed all the optional arguments there is. We can see docstring for `set_title` and `set_legend` below."
   ]
  },
  {
   "cell_type": "code",
   "execution_count": 13,
   "metadata": {
    "collapsed": false
   },
   "outputs": [
    {
     "name": "stdout",
     "output_type": "stream",
     "text": [
      "Help on method set_title in module krisk.chart:\n",
      "\n",
      "set_title(title, x_pos='auto', y_pos='auto') method of krisk.chart.Chart instance\n",
      "    Set title for the plot.\n",
      "    \n",
      "    The coordinate is started at bottom left corner. If x_pos and y_pos started\n",
      "    at negative values, then it's converted to the upper right corner (left->right, bottom->top)\n",
      "    \n",
      "    Parameters\n",
      "    ----------\n",
      "    title: str\n",
      "        Title of the chart.\n",
      "    x_pos: str, {'auto', left', 'center', 'right', 'i%'}, default to 'auto'\n",
      "    y_pos: str, {'auto', top', 'center', 'bottom', 'i%'}, default to 'auto'\n",
      "\n"
     ]
    }
   ],
   "source": [
    "help(p.set_title)"
   ]
  },
  {
   "cell_type": "code",
   "execution_count": 8,
   "metadata": {
    "collapsed": false
   },
   "outputs": [
    {
     "name": "stdout",
     "output_type": "stream",
     "text": [
      "Help on method set_legend in module krisk.chart:\n",
      "\n",
      "set_legend(align='auto', orient='horizontal', x_pos='auto', y_pos='auto') method of krisk.chart.Chart instance\n",
      "    Set legend style.\n",
      "    \n",
      "    The coordinate is started at bottom left corner. If x_pos and y_pos started\n",
      "    at negative values, then it's converted to the upper right corner (left->right, bottom->top)\n",
      "    \n",
      "    Parameters\n",
      "    ----------\n",
      "    \n",
      "    align: str, {'auto','left','right'}, default to 'auto'\n",
      "    orient: str, {'horizontal','vertical'} default to 'horizontal'\n",
      "    x_pos: str, {'auto', left', 'center', 'right', 'i%'}, default to 'auto'\n",
      "    y_pos: str, {'auto', top', 'center', 'bottom', 'i%'}, default to 'auto'\n",
      "    \n",
      "    Returns\n",
      "    -------\n",
      "    Chart Object\n",
      "\n"
     ]
    }
   ],
   "source": [
    "help(p.set_legend)"
   ]
  },
  {
   "cell_type": "markdown",
   "metadata": {},
   "source": [
    "## Toolbox"
   ]
  },
  {
   "cell_type": "markdown",
   "metadata": {},
   "source": [
    "Beside align, position, and orientation, Toolbox has different set of options that we can interact with the chart."
   ]
  },
  {
   "cell_type": "code",
   "execution_count": null,
   "metadata": {
    "collapsed": true
   },
   "outputs": [],
   "source": []
  }
 ],
 "metadata": {
  "kernelspec": {
   "display_name": "Python 3",
   "language": "python",
   "name": "python3"
  },
  "language_info": {
   "codemirror_mode": {
    "name": "ipython",
    "version": 3
   },
   "file_extension": ".py",
   "mimetype": "text/x-python",
   "name": "python",
   "nbconvert_exporter": "python",
   "pygments_lexer": "ipython3",
   "version": "3.5.1"
  },
  "widgets": {
   "state": {
    "0C89A429F449406B88A937BFB8DBED3E": {
     "views": []
    },
    "2CBB2281FE0E452C9D3068894FF0A478": {
     "views": []
    }
   },
   "version": "1.1.2"
  }
 },
 "nbformat": 4,
 "nbformat_minor": 0
}
