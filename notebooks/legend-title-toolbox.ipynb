{
 "cells": [
  {
   "cell_type": "code",
   "execution_count": 5,
   "metadata": {
    "collapsed": false
   },
   "outputs": [
    {
     "data": {
      "application/javascript": [
       "\n",
       "    require.config({\n",
       "                 baseUrl : \"//cdn.rawgit.com/napjon/krisk/master/krisk/static\",\n",
       "                 paths: {\n",
       "                      echarts: \"//cdnjs.cloudflare.com/ajax/libs/echarts/3.2.1/echarts.min\"\n",
       "                  }\n",
       "    });\n",
       "    "
      ],
      "text/plain": [
       "<IPython.core.display.Javascript object>"
      ]
     },
     "execution_count": 5,
     "metadata": {},
     "output_type": "execute_result"
    }
   ],
   "source": [
    "import pandas as pd\n",
    "import krisk.plot as kk\n",
    "from krisk import init_notebook; init_notebook()"
   ]
  },
  {
   "cell_type": "markdown",
   "metadata": {},
   "source": [
    "Before we added talk about each of these features. There's something in common, the way the element position themselves, this are position (`x_pos`,`y_pos`), `align`, and `orientation`."
   ]
  },
  {
   "cell_type": "markdown",
   "metadata": {},
   "source": [
    "## Position"
   ]
  },
  {
   "cell_type": "markdown",
   "metadata": {},
   "source": [
    "Everytime we add toolbox, title, or legend, we almost always want to reposition those elements. "
   ]
  },
  {
   "cell_type": "markdown",
   "metadata": {},
   "source": [
    "When default to auto for both x-axes and y-axes,\n",
    "\n",
    "* The title will position at top-left corner.\n",
    "* The legend will position at top-center.\n",
    "* The toolbox will position at top-left corner."
   ]
  },
  {
   "cell_type": "markdown",
   "metadata": {},
   "source": [
    "As we can see from this criteria,  there's definitely collision for title and toolbox, and legend if the title is longer."
   ]
  },
  {
   "cell_type": "markdown",
   "metadata": {},
   "source": [
    "Take a look at this example,"
   ]
  },
  {
   "cell_type": "code",
   "execution_count": 6,
   "metadata": {
    "collapsed": true
   },
   "outputs": [],
   "source": [
    "df = pd.read_csv('../krisk/tests/data/gapminderDataFiveYear.txt',sep='\\t')"
   ]
  },
  {
   "cell_type": "code",
   "execution_count": null,
   "metadata": {
    "collapsed": false
   },
   "outputs": [],
   "source": [
    "p = kk.bar(df,'year',y='pop',how='mean',category='continent')\n",
    "p.set_size(width=800)\n",
    "p.set_title('GapMinder Average Population Across Continent')\n",
    "p.set_toolbox(save_format='png',restore=True)"
   ]
  },
  {
   "cell_type": "markdown",
   "metadata": {},
   "source": [
    "![jpg](https://raw.githubusercontent.com/napjon/krisk/master/notebooks/img/ltt-1.jpg)"
   ]
  },
  {
   "cell_type": "markdown",
   "metadata": {},
   "source": [
    "As we can see, we have to reposition the coordinate accordingly, specifically for the title since it collide with both toolbox and legend."
   ]
  },
  {
   "cell_type": "code",
   "execution_count": null,
   "metadata": {
    "collapsed": false
   },
   "outputs": [],
   "source": [
    "p.set_title('GapMinder Average Population Across Continent',y_pos='-7%')"
   ]
  },
  {
   "cell_type": "markdown",
   "metadata": {},
   "source": [
    "![jpg](https://raw.githubusercontent.com/napjon/krisk/master/notebooks/img/ltt-2.jpg)"
   ]
  },
  {
   "cell_type": "markdown",
   "metadata": {},
   "source": [
    "Notice that the coordinate for x_pos and y_pos has negative element. The way krisk started the position is from bottom-left corner, and based on percentage of the pixel. If on the negative element, then it will be the other way around, with x position started at the right, and y position started at the top.\n",
    "\n",
    "\n",
    "Beside coordinate number, krisk support `auto`, `center`, `left`-`right` (x position), and `top`-`bottom` (y position)."
   ]
  },
  {
   "cell_type": "markdown",
   "metadata": {},
   "source": [
    "## Orientation"
   ]
  },
  {
   "cell_type": "markdown",
   "metadata": {},
   "source": [
    "We can set orientation for legend and toolbox. Below we see the legend oriented vertically and reposition nicely in the chart."
   ]
  },
  {
   "cell_type": "code",
   "execution_count": null,
   "metadata": {
    "collapsed": false
   },
   "outputs": [],
   "source": [
    "p.set_legend(orient='vertical',x_pos='12%',y_pos='-16%')"
   ]
  },
  {
   "cell_type": "markdown",
   "metadata": {},
   "source": [
    "![jpg](https://raw.githubusercontent.com/napjon/krisk/master/notebooks/img/ltt-3.jpg)"
   ]
  },
  {
   "cell_type": "markdown",
   "metadata": {},
   "source": [
    "## Legend and Title"
   ]
  },
  {
   "cell_type": "markdown",
   "metadata": {},
   "source": [
    "For legend and title we have discussed all the optional arguments there is. We can see docstring for `set_title` and `set_legend` below."
   ]
  },
  {
   "cell_type": "code",
   "execution_count": 8,
   "metadata": {
    "collapsed": false
   },
   "outputs": [
    {
     "name": "stdout",
     "output_type": "stream",
     "text": [
      "Help on method set_title in module krisk.chart:\n",
      "\n",
      "set_title(title, x_pos='auto', y_pos='auto') method of krisk.chart.Chart instance\n",
      "    Set title for the plot.\n",
      "    \n",
      "    The coordinate is started at bottom left corner. If x_pos and y_pos started\n",
      "    at negative values, then it's converted to the upper right corner (left->right, bottom->top)\n",
      "    \n",
      "    Parameters\n",
      "    ----------\n",
      "    title: str\n",
      "        Title of the chart.\n",
      "    x_pos: str, {'auto', left', 'center', 'right', 'i%'}, default to 'auto'\n",
      "    y_pos: str, {'auto', top', 'center', 'bottom', 'i%'}, default to 'auto'\n",
      "\n"
     ]
    }
   ],
   "source": [
    "help(p.set_title)"
   ]
  },
  {
   "cell_type": "code",
   "execution_count": 9,
   "metadata": {
    "collapsed": false
   },
   "outputs": [
    {
     "name": "stdout",
     "output_type": "stream",
     "text": [
      "Help on method set_legend in module krisk.chart:\n",
      "\n",
      "set_legend(align='auto', orient='horizontal', x_pos='auto', y_pos='auto') method of krisk.chart.Chart instance\n",
      "    Set legend style.\n",
      "    \n",
      "    The coordinate is started at bottom left corner. If x_pos and y_pos started\n",
      "    at negative values, then it's converted to the upper right corner (left->right, bottom->top)\n",
      "    \n",
      "    Parameters\n",
      "    ----------\n",
      "    \n",
      "    align: str, {'auto','left','right'}, default to 'auto'\n",
      "    orient: str, {'horizontal','vertical'} default to 'horizontal'\n",
      "    x_pos: str, {'auto', left', 'center', 'right', 'i%'}, default to 'auto'\n",
      "    y_pos: str, {'auto', top', 'center', 'bottom', 'i%'}, default to 'auto'\n",
      "    \n",
      "    Returns\n",
      "    -------\n",
      "    Chart Object\n",
      "\n"
     ]
    }
   ],
   "source": [
    "help(p.set_legend)"
   ]
  },
  {
   "cell_type": "markdown",
   "metadata": {},
   "source": [
    "## Toolbox"
   ]
  },
  {
   "cell_type": "markdown",
   "metadata": {},
   "source": [
    "Beside align, position, and orientation, Toolbox has different set of options that we can interact with the chart. First the easiest, `restore`,`save_format`, and panning."
   ]
  },
  {
   "cell_type": "markdown",
   "metadata": {},
   "source": [
    "### Restore, Save, and Zoom"
   ]
  },
  {
   "cell_type": "code",
   "execution_count": null,
   "metadata": {
    "collapsed": false
   },
   "outputs": [],
   "source": [
    "p.set_toolbox(restore=True, save_format='png', data_zoom=True)"
   ]
  },
  {
   "cell_type": "markdown",
   "metadata": {},
   "source": [
    "![jpg](https://raw.githubusercontent.com/napjon/krisk/master/notebooks/img/ltt-4.jpg)"
   ]
  },
  {
   "cell_type": "markdown",
   "metadata": {},
   "source": [
    "The `restore` option will return your plot to original form. This is intended after you edit the plot, you may want to reset it back. The save_format is nice feature that you can use to download as image after editing the plots."
   ]
  },
  {
   "cell_type": "markdown",
   "metadata": {},
   "source": [
    "### Data View"
   ]
  },
  {
   "cell_type": "code",
   "execution_count": null,
   "metadata": {
    "collapsed": false
   },
   "outputs": [],
   "source": [
    "p.set_toolbox(data_view=False, restore=True)\n",
    "p.set_size(width=800)"
   ]
  },
  {
   "cell_type": "markdown",
   "metadata": {},
   "source": [
    "![jpg](https://raw.githubusercontent.com/napjon/krisk/master/notebooks/img/ltt-5.jpg)"
   ]
  },
  {
   "cell_type": "markdown",
   "metadata": {},
   "source": [
    "The `data_view` is another convenience function to let readers see table data that construct the plot. If True, it's set to read_only. Set it to False will let readers modify the data, hence changing the plot."
   ]
  },
  {
   "cell_type": "markdown",
   "metadata": {},
   "source": [
    "### Magic Type"
   ]
  },
  {
   "cell_type": "code",
   "execution_count": null,
   "metadata": {
    "collapsed": false
   },
   "outputs": [],
   "source": [
    "p.set_toolbox(magic_type=['line','bar'],restore=True)"
   ]
  },
  {
   "cell_type": "markdown",
   "metadata": {},
   "source": [
    "![jpg](https://raw.githubusercontent.com/napjon/krisk/master/notebooks/img/ltt-6.jpg)"
   ]
  },
  {
   "cell_type": "markdown",
   "metadata": {},
   "source": [
    "`magic_type` let your plot changed as you explore different options to visualize your data. Here the exact same plot is used, but using `line` to change the visualization."
   ]
  }
 ],
 "metadata": {
  "kernelspec": {
   "display_name": "Python 3",
   "language": "python",
   "name": "python3"
  },
  "language_info": {
   "codemirror_mode": {
    "name": "ipython",
    "version": 3
   },
   "file_extension": ".py",
   "mimetype": "text/x-python",
   "name": "python",
   "nbconvert_exporter": "python",
   "pygments_lexer": "ipython3",
   "version": "3.5.1"
  },
  "widgets": {
   "state": {
    "310714F5C5B647FA9FA0171B1E7B430D": {
     "views": []
    },
    "A6A90F17CC78482287AD1335774520C8": {
     "views": []
    }
   },
   "version": "1.1.2"
  }
 },
 "nbformat": 4,
 "nbformat_minor": 0
}
