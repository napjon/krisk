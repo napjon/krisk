{
 "cells": [
  {
   "cell_type": "code",
   "execution_count": 2,
   "metadata": {
    "collapsed": false
   },
   "outputs": [],
   "source": [
    "from ipywidgets import interact\n",
    "import ipywidgets as widgets"
   ]
  },
  {
   "cell_type": "code",
   "execution_count": 3,
   "metadata": {
    "collapsed": false
   },
   "outputs": [
    {
     "data": {
      "application/javascript": [
       "\n",
       "    require.config({\n",
       "                 baseUrl : \"//cdn.rawgit.com/napjon/krisk/master/krisk/static\",\n",
       "                 paths: {\n",
       "                      echarts: \"//cdnjs.cloudflare.com/ajax/libs/echarts/3.2.1/echarts.min\"\n",
       "                  }\n",
       "    });\n",
       "    "
      ],
      "text/plain": [
       "<IPython.core.display.Javascript object>"
      ]
     },
     "execution_count": 3,
     "metadata": {},
     "output_type": "execute_result"
    }
   ],
   "source": [
    "import pandas as pd\n",
    "import krisk.plot as kk\n",
    "from krisk import init_notebook; init_notebook()"
   ]
  },
  {
   "cell_type": "code",
   "execution_count": 4,
   "metadata": {
    "collapsed": true
   },
   "outputs": [],
   "source": [
    "df = pd.read_csv('../krisk/tests/data/gapminderDataFiveYear.txt',sep='\\t')"
   ]
  },
  {
   "cell_type": "markdown",
   "metadata": {},
   "source": [
    "Krisk also introduced a very simplistic for you to resync data or create a reproducible charts. Consider this plot,"
   ]
  },
  {
   "cell_type": "code",
   "execution_count": 11,
   "metadata": {
    "collapsed": false
   },
   "outputs": [
    {
     "data": {
      "application/javascript": [
       "\n",
       "$('#a7ce287b-a87e-42ce-b32a-affe4e2bfc41').attr('id','a7ce287b-a87e-42ce-b32a-affe4e2bfc41'+'_old');\n",
       "element.append('<div id=\"a7ce287b-a87e-42ce-b32a-affe4e2bfc41\" style=\"width: 800px;height:400px;\"></div>');\n",
       "require(['echarts', 'dark', 'vintage', 'roma', 'shine', 'infographic', 'macarons'],\n",
       "function(echarts){\n",
       "    \n",
       "    function parseFunction(str){\n",
       "        return eval('(' + str + ')');\n",
       "    }\n",
       "    \n",
       "    var myChart = echarts.init(document.getElementById(\"a7ce287b-a87e-42ce-b32a-affe4e2bfc41\"),\"\");\n",
       "    \n",
       "    var option = {\n",
       "    \"title\": {\n",
       "        \"text\": \"\"\n",
       "    },\n",
       "    \"tooltip\": {\n",
       "        \"axisPointer\": {\n",
       "            \"type\": \"\"\n",
       "        }\n",
       "    },\n",
       "    \"toolbox\": {\n",
       "        \"left\": \"auto\",\n",
       "        \"bottom\": \"auto\",\n",
       "        \"align\": \"auto\",\n",
       "        \"orient\": \"horizontal\",\n",
       "        \"feature\": {\n",
       "            \"saveAsImage\": {\n",
       "                \"type\": \"jpg\",\n",
       "                \"show\": true,\n",
       "                \"title\": \"Download as Image\"\n",
       "            },\n",
       "            \"dataZoom\": {\n",
       "                \"show\": false,\n",
       "                \"title\": \"Zoom\"\n",
       "            },\n",
       "            \"restore\": {\n",
       "                \"show\": false,\n",
       "                \"title\": \"Reset\"\n",
       "            }\n",
       "        }\n",
       "    },\n",
       "    \"series\": [\n",
       "        {\n",
       "            \"type\": \"bar\",\n",
       "            \"data\": [\n",
       "                4570009.635,\n",
       "                13806097.84,\n",
       "                42283556.121,\n",
       "                13937361.533,\n",
       "                5343003.0\n",
       "            ],\n",
       "            \"name\": \"continent\"\n",
       "        }\n",
       "    ],\n",
       "    \"yAxis\": {},\n",
       "    \"legend\": {\n",
       "        \"data\": []\n",
       "    },\n",
       "    \"xAxis\": {\n",
       "        \"data\": [\n",
       "            \"Africa\",\n",
       "            \"Americas\",\n",
       "            \"Asia\",\n",
       "            \"Europe\",\n",
       "            \"Oceania\"\n",
       "        ]\n",
       "    }\n",
       "};\n",
       "    option['tooltip']['formatter'] = parseFunction(option['tooltip']['formatter']);\n",
       "    \n",
       "    //option['series'][0]['symbolSize'] = function (val){return val[2]*10;}\n",
       "    \n",
       "    \n",
       "    myChart.setOption(option);\n",
       "    //console.log(option);\n",
       "    \n",
       "    \n",
       "});\n"
      ],
      "text/plain": [
       "<krisk.chart.Chart at 0x111d26470>"
      ]
     },
     "execution_count": 11,
     "metadata": {},
     "output_type": "execute_result"
    }
   ],
   "source": [
    "p = kk.bar(df[df.year == 1952],'continent',y='pop', how='mean')\n",
    "p.set_size(width=800)\n",
    "p.set_toolbox(save_format='jpg')"
   ]
  },
  {
   "cell_type": "markdown",
   "metadata": {},
   "source": [
    "![jpg](https://raw.githubusercontent.com/napjon/krisk/master/notebooks/img/rr-1.jpg)"
   ]
  },
  {
   "cell_type": "markdown",
   "metadata": {},
   "source": [
    "Executing this code below "
   ]
  },
  {
   "cell_type": "code",
   "execution_count": 46,
   "metadata": {
    "collapsed": false
   },
   "outputs": [
    {
     "data": {
      "application/javascript": [
       "\n",
       "require(['echarts', 'dark', 'vintage', 'roma', 'shine', 'infographic', 'macarons'],\n",
       "function(echarts){\n",
       "    \n",
       "    function parseFunction(str){\n",
       "        return eval('(' + str + ')');\n",
       "    }\n",
       "    \n",
       "    var myChart = echarts.init(document.getElementById(\"37c19e39-0d31-4de4-a275-6c34e562e854\"),\"\");\n",
       "    \n",
       "    var option = {\n",
       "    \"title\": {\n",
       "        \"text\": \"\"\n",
       "    },\n",
       "    \"legend\": {\n",
       "        \"data\": []\n",
       "    },\n",
       "    \"tooltip\": {\n",
       "        \"axisPointer\": {\n",
       "            \"type\": \"\"\n",
       "        }\n",
       "    },\n",
       "    \"series\": [\n",
       "        {\n",
       "            \"data\": [\n",
       "                17875763.308,\n",
       "                35954847.36,\n",
       "                115513752.333,\n",
       "                19536617.633,\n",
       "                12274973.5\n",
       "            ],\n",
       "            \"name\": \"continent\",\n",
       "            \"type\": \"bar\"\n",
       "        }\n",
       "    ],\n",
       "    \"yAxis\": {},\n",
       "    \"xAxis\": {\n",
       "        \"data\": [\n",
       "            \"Africa\",\n",
       "            \"Americas\",\n",
       "            \"Asia\",\n",
       "            \"Europe\",\n",
       "            \"Oceania\"\n",
       "        ]\n",
       "    }\n",
       "};\n",
       "    option['tooltip']['formatter'] = parseFunction(option['tooltip']['formatter']);\n",
       "    \n",
       "    //option['series'][0]['symbolSize'] = function (val){return val[2]*10;}\n",
       "    \n",
       "    \n",
       "    myChart.setOption(option);\n",
       "    //console.log(option);\n",
       "    \n",
       "    \n",
       "});\n"
      ],
      "text/plain": [
       "<IPython.core.display.Javascript object>"
      ]
     },
     "execution_count": 46,
     "metadata": {},
     "output_type": "execute_result"
    }
   ],
   "source": [
    "p.resync_data(df[df.year == 2007])"
   ]
  },
  {
   "cell_type": "markdown",
   "metadata": {},
   "source": [
    "Would let you to modify the plot above instead of returning new plot. As you can see this is useful when you combine it to `ipywidgets` to interact with your data."
   ]
  },
  {
   "cell_type": "code",
   "execution_count": 101,
   "metadata": {
    "collapsed": false
   },
   "outputs": [
    {
     "data": {
      "application/javascript": [
       "\n",
       "require(['echarts', 'dark', 'vintage', 'roma', 'shine', 'infographic', 'macarons'],\n",
       "function(echarts){\n",
       "    \n",
       "    function parseFunction(str){\n",
       "        return eval('(' + str + ')');\n",
       "    }\n",
       "    \n",
       "    var myChart = echarts.init(document.getElementById(\"dd8941fa-5477-402d-87dc-bb1a73745ce5\"),\"\");\n",
       "    \n",
       "    var option = {\n",
       "    \"title\": {\n",
       "        \"text\": \"\"\n",
       "    },\n",
       "    \"legend\": {\n",
       "        \"data\": []\n",
       "    },\n",
       "    \"tooltip\": {\n",
       "        \"axisPointer\": {\n",
       "            \"type\": \"\"\n",
       "        }\n",
       "    },\n",
       "    \"series\": [\n",
       "        {\n",
       "            \"data\": [\n",
       "                5702247.404,\n",
       "                17330810.16,\n",
       "                51404763.091,\n",
       "                15345171.833,\n",
       "                6641759.0\n",
       "            ],\n",
       "            \"name\": \"continent\",\n",
       "            \"type\": \"bar\"\n",
       "        }\n",
       "    ],\n",
       "    \"yAxis\": {},\n",
       "    \"xAxis\": {\n",
       "        \"data\": [\n",
       "            \"Africa\",\n",
       "            \"Americas\",\n",
       "            \"Asia\",\n",
       "            \"Europe\",\n",
       "            \"Oceania\"\n",
       "        ]\n",
       "    }\n",
       "};\n",
       "    option['tooltip']['formatter'] = parseFunction(option['tooltip']['formatter']);\n",
       "    \n",
       "    //option['series'][0]['symbolSize'] = function (val){return val[2]*10;}\n",
       "    \n",
       "    \n",
       "    myChart.setOption(option);\n",
       "    //console.log(option);\n",
       "    \n",
       "    \n",
       "});\n"
      ],
      "text/plain": [
       "<IPython.core.display.Javascript object>"
      ]
     },
     "metadata": {},
     "output_type": "display_data"
    }
   ],
   "source": [
    "def resync(year):\n",
    "    return p.resync_data(df[df.year == year])\n",
    "interact(resync,year=IntSlider(min=df.year.min(),max=df.year.max(),step=5,value=1952))"
   ]
  },
  {
   "cell_type": "markdown",
   "metadata": {
    "collapsed": true
   },
   "source": [
    "You can also replot entirely the plot you have in the cell where the variable is"
   ]
  },
  {
   "cell_type": "code",
   "execution_count": 102,
   "metadata": {
    "collapsed": false
   },
   "outputs": [
    {
     "data": {
      "application/javascript": [
       "\n",
       "require(['echarts', 'dark', 'vintage', 'roma', 'shine', 'infographic', 'macarons'],\n",
       "function(echarts){\n",
       "    \n",
       "    function parseFunction(str){\n",
       "        return eval('(' + str + ')');\n",
       "    }\n",
       "    \n",
       "    var myChart = echarts.init(document.getElementById(\"dd8941fa-5477-402d-87dc-bb1a73745ce5\"),\"\");\n",
       "    \n",
       "    var option = {\n",
       "    \"title\": {\n",
       "        \"text\": \"\"\n",
       "    },\n",
       "    \"legend\": {\n",
       "        \"data\": []\n",
       "    },\n",
       "    \"tooltip\": {\n",
       "        \"axisPointer\": {\n",
       "            \"type\": \"\"\n",
       "        }\n",
       "    },\n",
       "    \"series\": [\n",
       "        {\n",
       "            \"data\": [\n",
       "                624,\n",
       "                396,\n",
       "                360,\n",
       "                300,\n",
       "                24\n",
       "            ],\n",
       "            \"name\": \"continent\",\n",
       "            \"type\": \"line\"\n",
       "        }\n",
       "    ],\n",
       "    \"yAxis\": {},\n",
       "    \"xAxis\": {\n",
       "        \"data\": [\n",
       "            \"Africa\",\n",
       "            \"Asia\",\n",
       "            \"Europe\",\n",
       "            \"Americas\",\n",
       "            \"Oceania\"\n",
       "        ]\n",
       "    }\n",
       "};\n",
       "    option['tooltip']['formatter'] = parseFunction(option['tooltip']['formatter']);\n",
       "    \n",
       "    //option['series'][0]['symbolSize'] = function (val){return val[2]*10;}\n",
       "    \n",
       "    \n",
       "    myChart.setOption(option);\n",
       "    //console.log(option);\n",
       "    \n",
       "    \n",
       "});\n"
      ],
      "text/plain": [
       "<IPython.core.display.Javascript object>"
      ]
     },
     "execution_count": 102,
     "metadata": {},
     "output_type": "execute_result"
    }
   ],
   "source": [
    "p.replot(kk.line(df,'continent'))"
   ]
  },
  {
   "cell_type": "markdown",
   "metadata": {},
   "source": [
    "Finally, there is `read_df` method for reproducible charts. You have a plot, and using it to just replace the data. This is espcially useful when you have a beautiful chart already, and sharing to others just by replacing the data. Note that this is similar resync_data. But instead of replacing the cell where previous chart contained, it create new cell."
   ]
  },
  {
   "cell_type": "code",
   "execution_count": null,
   "metadata": {
    "collapsed": false
   },
   "outputs": [],
   "source": [
    "p.read_df(df).set_toolbox(save_format='jpg')"
   ]
  },
  {
   "cell_type": "markdown",
   "metadata": {},
   "source": [
    "![jpg](https://raw.githubusercontent.com/napjon/krisk/master/notebooks/img/rr-2.jpg)"
   ]
  }
 ],
 "metadata": {
  "kernelspec": {
   "display_name": "Python 3",
   "language": "python",
   "name": "python3"
  },
  "language_info": {
   "codemirror_mode": {
    "name": "ipython",
    "version": 3
   },
   "file_extension": ".py",
   "mimetype": "text/x-python",
   "name": "python",
   "nbconvert_exporter": "python",
   "pygments_lexer": "ipython3",
   "version": "3.5.1"
  },
  "widgets": {
   "state": {
    "E6833E93911B49DF841F932A102FCDE6": {
     "views": []
    }
   },
   "version": "1.1.2"
  }
 },
 "nbformat": 4,
 "nbformat_minor": 0
}
