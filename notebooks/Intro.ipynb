{
 "cells": [
  {
   "cell_type": "markdown",
   "metadata": {},
   "source": [
    "> ***Notes***:\n",
    "\n",
    "> Output below is just an image screenshot taken from actual output. Because Javascript image output won't survive in static page like GitHub. Please download this notebook and execute to produce the actual output"
   ]
  },
  {
   "cell_type": "markdown",
   "metadata": {},
   "source": [
    "Krisk is created for building statistical interactive visualization with pandas+Jupyter integration on top of Echarts."
   ]
  },
  {
   "cell_type": "code",
   "execution_count": null,
   "metadata": {
    "collapsed": true
   },
   "outputs": [],
   "source": [
    "import pandas as pd\n",
    "import krisk.plot as kk "
   ]
  },
  {
   "cell_type": "code",
   "execution_count": null,
   "metadata": {
    "collapsed": false
   },
   "outputs": [],
   "source": [
    "from krisk import init_notebook; init_notebook()"
   ]
  },
  {
   "cell_type": "markdown",
   "metadata": {},
   "source": [
    "We will be using GapMinder data for examples below."
   ]
  },
  {
   "cell_type": "code",
   "execution_count": null,
   "metadata": {
    "collapsed": false
   },
   "outputs": [],
   "source": [
    "df = pd.read_csv('http://www.stat.ubc.ca/~jenny/notOcto/STAT545A/'\n",
    "                              'examples/gapminder/data/'\n",
    "                              'gapminderDataFiveYear.txt', sep='\\t')\n",
    "\n",
    "df.head()"
   ]
  },
  {
   "cell_type": "markdown",
   "metadata": {},
   "source": [
    "Let's start by small example. Using bar plot to count the data of category,"
   ]
  },
  {
   "cell_type": "code",
   "execution_count": null,
   "metadata": {
    "collapsed": false
   },
   "outputs": [],
   "source": [
    "kk.bar(df,'continent')"
   ]
  },
  {
   "cell_type": "markdown",
   "metadata": {},
   "source": [
    "![jpg](https://raw.githubusercontent.com/napjon/krisk/master/notebooks/img/simple-bar.jpg)"
   ]
  },
  {
   "cell_type": "markdown",
   "metadata": {},
   "source": [
    "We also can plot bar by averaging GDP per capita for each continent,"
   ]
  },
  {
   "cell_type": "code",
   "execution_count": null,
   "metadata": {
    "collapsed": false
   },
   "outputs": [],
   "source": [
    "kk.bar(df,'continent',y='gdpPercap',how='mean')"
   ]
  },
  {
   "cell_type": "markdown",
   "metadata": {},
   "source": [
    "![jpg](https://raw.githubusercontent.com/napjon/krisk/master/notebooks/img/aggregate-bar.jpg)"
   ]
  },
  {
   "cell_type": "markdown",
   "metadata": {},
   "source": [
    "We can change x as year, and use the grouping on continent,"
   ]
  },
  {
   "cell_type": "code",
   "execution_count": null,
   "metadata": {
    "collapsed": false
   },
   "outputs": [],
   "source": [
    "kk.bar(df,'year',y='gdpPercap',category='continent',how='mean')"
   ]
  },
  {
   "cell_type": "markdown",
   "metadata": {},
   "source": [
    "![jpg](https://raw.githubusercontent.com/napjon/krisk/master/notebooks/img/bar-category.jpg)"
   ]
  },
  {
   "cell_type": "markdown",
   "metadata": {},
   "source": [
    "Stacked and annotate the chart,"
   ]
  },
  {
   "cell_type": "code",
   "execution_count": null,
   "metadata": {
    "collapsed": false
   },
   "outputs": [],
   "source": [
    "(kk.bar(df,'year',y='gdpPercap',category='continent',how='mean',stacked=True,annotate=True)\n",
    " .set_size(width=1000))"
   ]
  },
  {
   "cell_type": "markdown",
   "metadata": {},
   "source": [
    "![jpg](https://raw.githubusercontent.com/napjon/krisk/master/notebooks/img/bar-stacked.jpg)"
   ]
  },
  {
   "cell_type": "markdown",
   "metadata": {},
   "source": [
    "Next we can do the same thing with line chart, using area, annotate, and tooltip based on axis,"
   ]
  },
  {
   "cell_type": "code",
   "execution_count": null,
   "metadata": {
    "collapsed": false
   },
   "outputs": [],
   "source": [
    "p = kk.line(df,'year',y='gdpPercap',category='continent',how='mean',\n",
    "           stacked=True,annotate='all',area=True)\n",
    "p.set_tooltip_style(trigger='axis',axis_pointer='shadow')\n",
    "p.set_size(width=1000)"
   ]
  },
  {
   "cell_type": "markdown",
   "metadata": {},
   "source": [
    "![jpg](https://raw.githubusercontent.com/napjon/krisk/master/notebooks/img/line.jpg)"
   ]
  },
  {
   "cell_type": "markdown",
   "metadata": {},
   "source": [
    "We can also create a histogram and add theme into it,"
   ]
  },
  {
   "cell_type": "code",
   "execution_count": null,
   "metadata": {
    "collapsed": false
   },
   "outputs": [],
   "source": [
    "p = (kk.hist(df,x='lifeExp',category='continent',stacked=True,bins=100))\n",
    "p.set_tooltip_style(trigger='axis',axis_pointer='shadow')\n",
    "p.set_theme('vintage')"
   ]
  },
  {
   "cell_type": "markdown",
   "metadata": {},
   "source": [
    "![jpg](https://raw.githubusercontent.com/napjon/krisk/master/notebooks/img/histogram.jpg)"
   ]
  },
  {
   "cell_type": "markdown",
   "metadata": {},
   "source": [
    "Let's get a little bit advanced. We're going to create scatter points of GapMinder data in 2007. We use Life Expectancy, GDP per Capita, and Population as x,y,size respectively. We also want to add the information on the tooltip, add and reposition toolbox, legend, and title."
   ]
  },
  {
   "cell_type": "code",
   "execution_count": null,
   "metadata": {
    "collapsed": false
   },
   "outputs": [],
   "source": [
    "p = kk.scatter(df[df.year == 2007],'lifeExp','gdpPercap',size='pop',category='continent')\n",
    "p.set_size(width=1000, height=500)\n",
    "p.set_tooltip_format(['country','lifeExp','gdpPercap','pop','continent'])\n",
    "p.set_theme('dark')\n",
    "p.set_toolbox(save_format='png',restore=True,data_zoom=True)\n",
    "p.set_legend(orient='vertical',x_pos='-1%',y_pos='-3%')\n",
    "p.set_title('GapMinder of 2007',x_pos='center',y_pos='-5%')"
   ]
  },
  {
   "cell_type": "markdown",
   "metadata": {},
   "source": [
    "![jpg](https://raw.githubusercontent.com/napjon/krisk/master/notebooks/img/scatter.jpg)"
   ]
  },
  {
   "cell_type": "markdown",
   "metadata": {},
   "source": [
    "In the next few notebooks, we're going to dig deeper at each of the feature, including what's not being discussed here. But this introduction should give a sense of what krisk is capable of."
   ]
  }
 ],
 "metadata": {
  "kernelspec": {
   "display_name": "Python 3",
   "language": "python",
   "name": "python3"
  },
  "language_info": {
   "codemirror_mode": {
    "name": "ipython",
    "version": 3
   },
   "file_extension": ".py",
   "mimetype": "text/x-python",
   "name": "python",
   "nbconvert_exporter": "python",
   "pygments_lexer": "ipython3",
   "version": "3.5.1"
  },
  "widgets": {
   "state": {
    "903FF74A70924BA39D8C95FAF4FEF963": {
     "views": []
    }
   },
   "version": "1.1.2"
  }
 },
 "nbformat": 4,
 "nbformat_minor": 0
}
